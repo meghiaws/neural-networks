{
 "cells": [
  {
   "cell_type": "markdown",
   "metadata": {},
   "source": [
    "## Implementing Logical AND Function Using Adaline Neural Network\n",
    "\n",
    "### 1. Initializing Project and Reading Data From CSV Files \n",
    "**The source code of this particular project implemented in the src/projects/adaline.py**.\n",
    "\n",
    "Datasets of this project is in **dataset/adaline/and**."
   ]
  },
  {
   "cell_type": "code",
   "execution_count": 1,
   "metadata": {},
   "outputs": [],
   "source": [
    "import numpy as np\n",
    "import matplotlib.pyplot as plt\n",
    "from projects import AdalineNetwork\n",
    "\n",
    "training_dataset = np.genfromtxt(\"../dataset/adaline/and/training_dataset.csv\", delimiter=',', skip_header=1)\n",
    "test_dataset = np.genfromtxt(\"../dataset/adaline/and/test_dataset.csv\", delimiter=',', skip_header=1)\n"
   ]
  },
  {
   "cell_type": "markdown",
   "metadata": {},
   "source": [
    "### 2. Train The Networks\n",
    "Now we train our adaline network using train() function of AdalineNetwork class implemented in **adaline.py** in **src/projects**. \\\n",
    "Here we are using learning_rate=1, which can be easily changed."
   ]
  },
  {
   "cell_type": "code",
   "execution_count": 2,
   "metadata": {},
   "outputs": [],
   "source": [
    "and_adaline = AdalineNetwork(input_count=2, learning_rate=0.2)\n",
    "\n",
    "iteration_count = 1\n",
    "while True:\n",
    "    old_bias = and_adaline.bias\n",
    "    old_weights = and_adaline.w.copy()\n",
    "    for vector in training_dataset:\n",
    "        and_adaline.train(x=vector[:2], bias=vector[2], target=vector[3])\n",
    "    \n",
    "    if not and_adaline.weights_changed(old_weights, old_bias):\n",
    "        break\n",
    "\n",
    "    iteration_count += 1"
   ]
  },
  {
   "cell_type": "markdown",
   "metadata": {},
   "source": [
    "### 3. Plotting Decision Regions and Classifaction Results\n",
    "In this part we have correct weights for our network \\\n",
    "All we need is line that separate decision regions. \\\n",
    "This line is x2 = b + w1x1 / -w2x2 for 2 inputs.\n"
   ]
  },
  {
   "cell_type": "code",
   "execution_count": 10,
   "metadata": {},
   "outputs": [
    {
     "data": {
      "image/png": "[encoded data removed]",
      "text/plain": [
       "<Figure size 432x288 with 1 Axes>"
      ]
     },
     "metadata": {
      "needs_background": "light"
     },
     "output_type": "display_data"
    }
   ],
   "source": [
    "x1 = np.array([-2, 3])\n",
    "x2 = (and_adaline.bias + and_adaline.w[0] * x1) / (- and_adaline.w[1]) # x2 = b + w1x1 / -w2x2\n",
    "\n",
    "plt.plot(x1, x2)\n",
    "for vector in training_dataset:\n",
    "    # if Target is 1 it means point is in the positive area (green points) otherwise its in the negetive area (red points)\n",
    "    if vector[3] == 1:  \n",
    "        plt.scatter(vector[0], vector[1], color='green')\n",
    "    else:\n",
    "        plt.scatter(vector[0], vector[1], color='red')\n",
    "\n",
    "plt.grid()\n",
    "plt.xlim(-3, 3)\n",
    "plt.ylim(-3, 3)\n",
    "plt.show()"
   ]
  },
  {
   "cell_type": "markdown",
   "metadata": {},
   "source": [
    "### 4. Testing The Network and Plotting The Accuracy Chart\n",
    "Here we plot a bar chart to indicate our accuaracy ratio, by counting number of cases which successfully produces the desired target value."
   ]
  },
  {
   "cell_type": "code",
   "execution_count": 4,
   "metadata": {},
   "outputs": [
    {
     "data": {
      "image/png": "[encoded data removed]",
      "text/plain": [
       "<Figure size 432x288 with 1 Axes>"
      ]
     },
     "metadata": {
      "needs_background": "light"
     },
     "output_type": "display_data"
    },
    {
     "data": {
      "text/plain": [
       "'w1: 0.4285714285714286, w2: 0.3571428571428571, bias: -0.5 | The Iteration Count is 32'"
      ]
     },
     "execution_count": 4,
     "metadata": {},
     "output_type": "execute_result"
    }
   ],
   "source": [
    "correct_cases = 0\n",
    "for test_vector in test_dataset:\n",
    "    net_input = and_adaline.calculate_net_input(x=test_vector[:2])\n",
    "    result = and_adaline.activation_function(net_input)\n",
    "    if result == test_vector[2]:\n",
    "        correct_cases += 1\n",
    "incorrect_cases = test_dataset.shape[0] - correct_cases\n",
    "\n",
    "labels = ['Correct Cases', 'Incorrect Cases']\n",
    "data = [correct_cases, incorrect_cases]\n",
    "\n",
    "plt.bar(labels, data, color=('green', 'red'), width=0.3)\n",
    "plt.title('Correct Cases Vs Incorrect Cases')\n",
    "plt.show()\n",
    "\n",
    "f\"w1: {and_adaline.w[0]}, w2: {and_adaline.w[1]}, bias: {and_adaline.bias} | The Iteration Count is {iteration_count}\""
   ]
  }
 ],
 "metadata": {
  "interpreter": {
   "hash": "d5164f955f3c370455357be87c2600af36b098c32d9d17c0501d3db2d0437a92"
  },
  "kernelspec": {
   "display_name": "Python 3.9.9 64-bit ('.venv': venv)",
   "language": "python",
   "name": "python3"
  },
  "language_info": {
   "codemirror_mode": {
    "name": "ipython",
    "version": 3
   },
   "file_extension": ".py",
   "mimetype": "text/x-python",
   "name": "python",
   "nbconvert_exporter": "python",
   "pygments_lexer": "ipython3",
   "version": "3.9.9"
  },
  "orig_nbformat": 4
 },
 "nbformat": 4,
 "nbformat_minor": 2
}
