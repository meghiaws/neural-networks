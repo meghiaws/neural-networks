{
 "cells": [
  {
   "cell_type": "markdown",
   "metadata": {},
   "source": [
    "# Implementing Logical AND Function Using Hebbian Neural Network"
   ]
  },
  {
   "cell_type": "markdown",
   "metadata": {},
   "source": [
    "\n",
    "### 1. Initializing Project and Reading Data From CSV Files \n",
    "In order to implement AND function, we need some libraries and packages:\n",
    "\n",
    "- **numpy**: we use this library to calculate complex matrix operation\n",
    "- **matplotlib**: this is a plotting library, here we use it in plotting **classification graph** and **test case accuracy graph** \n",
    "- **projects**: this is a project that contains all source code and implemented neural networks.\n",
    "\n",
    "**The source code of this particular project implemented in the src/projects/hebb.py**\n",
    "\n",
    "We are using 2 datasets for each functions (AND, OR): \\\n",
    "First one is our training dataset which includes **2 inputs**, **bias** and **target** value. **(training_dataset.csv)** \\\n",
    "Second on is for testing if our training process was successful or not. **(test_dataset.csv)**. \\\n",
    "All datasets exists in the **dataset** folder with CSV format. "
   ]
  },
  {
   "cell_type": "code",
   "execution_count": 2,
   "metadata": {},
   "outputs": [],
   "source": [
    "import numpy as np\n",
    "import matplotlib.pyplot as plt\n",
    "from projects import HebbNetwork\n",
    "\n",
    "and_training_dataset = np.genfromtxt(\"../dataset/hebb/and/training_dataset.csv\", delimiter=',', skip_header=1)\n",
    "and_test_dataset = np.genfromtxt(\"../dataset/hebb/and/test_dataset.csv\", delimiter=',', skip_header=1)\n",
    "\n",
    "or_training_dataset = np.genfromtxt(\"../dataset/hebb/or/training_dataset.csv\", delimiter=',', skip_header=1)\n",
    "or_test_dataset = np.genfromtxt(\"../dataset/hebb/or/test_dataset.csv\", delimiter=',', skip_header=1)"
   ]
  },
  {
   "cell_type": "markdown",
   "metadata": {},
   "source": [
    "numpy's genfromtxt() function expects three arguments and returns a **numpy array**: \n",
    "- **fname**: patch to our dataset.\n",
    "- **delimiter**: delimiter which is used to separate values.\n",
    "- **skip_header**: the number of lines to skip at the beginning of a file (we use it to omitting the x1, x2, bias and target labels)."
   ]
  },
  {
   "cell_type": "markdown",
   "metadata": {},
   "source": [
    "### 2. Train The Networks\n",
    "Here we train our two networks using train() function implemented in **hebb.py** in **src/projects**\n"
   ]
  },
  {
   "cell_type": "code",
   "execution_count": 3,
   "metadata": {},
   "outputs": [],
   "source": [
    "and_hebb_network = HebbNetwork(input_count=2)\n",
    "or_hebb_network = HebbNetwork(input_count=2)\n",
    "\n",
    "for vector in and_training_dataset:\n",
    "    and_hebb_network.train(x=vector[:2], bias=vector[2], target=vector[3])\n",
    "\n",
    "for vector in or_training_dataset:\n",
    "    or_hebb_network.train(x=vector[:2], bias=vector[2], target=vector[3])"
   ]
  },
  {
   "cell_type": "markdown",
   "metadata": {},
   "source": [
    "### 3. Plotting Decision Regions and Classification Results\n",
    "#### a) AND Function\n",
    "In this part we have correct weights for our network \\\n",
    "All we need is line that separate decision regions. \\\n",
    "This line is x2 = b + w1x1 / -w2x2 for 2 inputs.\n",
    "\n",
    "For example we want to plot a line in range of (-2, 3) for X1. \\\n",
    "If we give [-2 and 3] to our line, we get [3 and -2] for x2."
   ]
  },
  {
   "cell_type": "code",
   "execution_count": 4,
   "metadata": {},
   "outputs": [
    {
     "data": {
      "image/png": "[encoded data removed]",
      "text/plain": [
       "<Figure size 432x288 with 1 Axes>"
      ]
     },
     "metadata": {
      "needs_background": "light"
     },
     "output_type": "display_data"
    }
   ],
   "source": [
    "x1 = np.array([-2, 3]) # x1=[-2, 3]\n",
    "x2 = (and_hebb_network.bias + and_hebb_network.w[0] * x1) / (- and_hebb_network.w[1]) # x2 = b + w1x1 / -w2, at the end will be x2=[3, -2]\n",
    "\n",
    "plt.plot(x1, x2)\n",
    "for vector in and_training_dataset:\n",
    "    # if Target is 1 it means point is in the positive area (green points) otherwise its in the negative area (red points)\n",
    "    if vector[3] == 1:  \n",
    "        plt.scatter(vector[0], vector[1], color='green')\n",
    "    else:\n",
    "        plt.scatter(vector[0], vector[1], color='red')\n",
    "\n",
    "plt.grid()\n",
    "plt.xlim(-3, 3)\n",
    "plt.ylim(-3, 3)\n",
    "plt.show()"
   ]
  },
  {
   "cell_type": "markdown",
   "metadata": {},
   "source": [
    "#### b) OR Function\n",
    "Here also we want to plot a line in range of (-3, 2) for x1. \\\n",
    "If we give [-2 and 3] to our line, we get [-3 and 2] for x2."
   ]
  },
  {
   "cell_type": "code",
   "execution_count": 17,
   "metadata": {},
   "outputs": [
    {
     "data": {
      "image/png": "[encoded data removed]",
      "text/plain": [
       "<Figure size 432x288 with 1 Axes>"
      ]
     },
     "metadata": {
      "needs_background": "light"
     },
     "output_type": "display_data"
    }
   ],
   "source": [
    "x1 = np.array([-3, 2]) # x1=[-3, 3]\n",
    "x2 = (or_hebb_network.bias + (or_hebb_network.w[0] * x1)) / (-or_hebb_network.w[1]) # x2 = b + w1x1 / -w2, at the end will be x2=[-3, 2]\n",
    "\n",
    "plt.plot(x1, x2)\n",
    "for vector in or_training_dataset:\n",
    "    # if Target is 1 it means point is in the positive area (green points) otherwise its in the negative area (red points)\n",
    "    if vector[3] == 1:  \n",
    "        plt.scatter(vector[0], vector[1], color='green')\n",
    "    else:\n",
    "        plt.scatter(vector[0], vector[1], color='red')\n",
    "\n",
    "plt.grid()\n",
    "plt.xlim(-3, 3)\n",
    "plt.ylim(-3, 3)\n",
    "plt.show()"
   ]
  },
  {
   "cell_type": "markdown",
   "metadata": {},
   "source": [
    "### 4. Plotting The Accuracy Chart\n",
    "#### a) AND Function\n",
    "Here we plot a bar chart to indicate our accuaracy ratio, by counting number of cases which successfully produces the desired target value."
   ]
  },
  {
   "cell_type": "code",
   "execution_count": 6,
   "metadata": {},
   "outputs": [
    {
     "data": {
      "image/png": "[encoded data removed]",
      "text/plain": [
       "<Figure size 432x288 with 1 Axes>"
      ]
     },
     "metadata": {
      "needs_background": "light"
     },
     "output_type": "display_data"
    },
    {
     "data": {
      "text/plain": [
       "'Success Rate: 100.0 %'"
      ]
     },
     "execution_count": 6,
     "metadata": {},
     "output_type": "execute_result"
    }
   ],
   "source": [
    "correct_cases = 0\n",
    "for test_vector in and_test_dataset:\n",
    "    net_input = and_hebb_network.calculate_net_input(x=test_vector[:2])\n",
    "    result = and_hebb_network.activation_function(net_input)\n",
    "    if result == test_vector[2]:\n",
    "        correct_cases += 1\n",
    "incorrect_cases = and_test_dataset.shape[0] - correct_cases\n",
    "\n",
    "labels = ['Correct Cases', 'Incorrect Cases']\n",
    "data = [correct_cases, incorrect_cases]\n",
    "\n",
    "plt.bar(labels, data, color=('green', 'red'), width=0.3)\n",
    "plt.title('Correct Cases Vs Incorrect Cases')\n",
    "plt.show()\n",
    "\n",
    "success_percentage = round((correct_cases / and_test_dataset.shape[0]) * 100, 3)\n",
    "f\"Success Rate: {success_percentage} %\""
   ]
  },
  {
   "cell_type": "markdown",
   "metadata": {},
   "source": [
    "#### b) OR Function"
   ]
  },
  {
   "cell_type": "code",
   "execution_count": 7,
   "metadata": {},
   "outputs": [
    {
     "data": {
      "image/png": "[encoded data removed]",
      "text/plain": [
       "<Figure size 432x288 with 1 Axes>"
      ]
     },
     "metadata": {
      "needs_background": "light"
     },
     "output_type": "display_data"
    },
    {
     "data": {
      "text/plain": [
       "'Success Rate: 100.0 %'"
      ]
     },
     "execution_count": 7,
     "metadata": {},
     "output_type": "execute_result"
    }
   ],
   "source": [
    "correct_cases = 0\n",
    "for test_vector in or_test_dataset:\n",
    "    net_input = or_hebb_network.calculate_net_input(x=test_vector[:2])\n",
    "    result = or_hebb_network.activation_function(net_input)\n",
    "    if result == test_vector[2]:\n",
    "        correct_cases += 1\n",
    "incorrect_cases = or_test_dataset.shape[0] - correct_cases\n",
    "\n",
    "labels = ['Correct Cases', 'Incorrect Cases']\n",
    "data = [correct_cases, incorrect_cases]\n",
    "\n",
    "plt.bar(labels, data, color=('green', 'red'), width=0.3)\n",
    "plt.title('Correct Cases Vs Incorrect Cases')\n",
    "plt.show()\n",
    "\n",
    "success_percentage = round((correct_cases / or_test_dataset.shape[0]) * 100, 3)\n",
    "f\"Success Rate: {success_percentage} %\""
   ]
  }
 ],
 "metadata": {
  "kernelspec": {
   "display_name": "Python 3.10.4 ('.venv': venv)",
   "language": "python",
   "name": "python3"
  },
  "language_info": {
   "codemirror_mode": {
    "name": "ipython",
    "version": 3
   },
   "file_extension": ".py",
   "mimetype": "text/x-python",
   "name": "python",
   "nbconvert_exporter": "python",
   "pygments_lexer": "ipython3",
   "version": "3.10.4"
  },
  "vscode": {
   "interpreter": {
    "hash": "f4138daca92dd47c4a8226c0693765767523fd5d259c3b1c6eafe565d972cf1e"
   }
  }
 },
 "nbformat": 4,
 "nbformat_minor": 4
}
