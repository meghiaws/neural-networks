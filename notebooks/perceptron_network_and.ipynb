{
 "cells": [
  {
   "cell_type": "markdown",
   "metadata": {},
   "source": [
    "## Implementing Logical AND Function Using Perceptron Neural Network\n",
    "\n"
   ]
  },
  {
   "cell_type": "markdown",
   "metadata": {},
   "source": [
    "\n",
    "### 1. Initializing Project and Reading Data From CSV Files \n",
    "In order to implement AND function, we need some libraries and packages:\n",
    "\n",
    "- **numpy**: we use this library to calculate complex matrix operation\n",
    "- **matplotlib**: this is a plotting library, here we use it in plotting **classification graph** and **test case accuracy graph** \n",
    "- **projects**: this is a project that contains all source code and impleemented neural networks.\n",
    "\n",
    "**The source code of this particular project implemented in the src/projects/two_input_perceptron.py**\n",
    "\n",
    "We are using 2 datasets for each functions (AND, OR): \\\n",
    "First one is our training dataset which includes **2 inputs**, **bias** and **target** value. **(training_dataset.csv)** \\\n",
    "Second on is for testing if our training proccess was successful or not. **(test_dataset.csv)**. \\\n",
    "All datasets exists in the **dataset** folder with CSV format.\n",
    "\n",
    "**Here we are using binary input and bipolar target.**\n",
    "\n"
   ]
  },
  {
   "cell_type": "code",
   "execution_count": 6,
   "metadata": {},
   "outputs": [],
   "source": [
    "import numpy as np\n",
    "import matplotlib.pyplot as plt\n",
    "from projects import TwoInputPerceptron\n",
    "\n",
    "training_dataset = np.genfromtxt(\"../dataset/perceptron/and/training_dataset.csv\", delimiter=',', skip_header=1)\n",
    "test_dataset = np.genfromtxt(\"../dataset/perceptron/and/test_dataset.csv\", delimiter=',', skip_header=1)\n"
   ]
  },
  {
   "cell_type": "markdown",
   "metadata": {},
   "source": [
    "numpy's genfromtxt() function expects three arguments and returns a **numpy array**: \n",
    "- **fname**: patch to our dataset.\n",
    "- **delimeter**: delimeter which is used to separate values.\n",
    "- **skip_header**: the number of lines to skip at the beginning of a file (we use it to ommiting the x1, x2, bias and target labels)."
   ]
  },
  {
   "cell_type": "markdown",
   "metadata": {},
   "source": [
    "### 2. Train The Networks\n",
    "Now we train our perceptron network using train() function implemented in **two_input_percepron.py** in **src/projects**. \\\n",
    "Here we are using learning_rate=1 and treshold(θ)=0.2, which can be easily changed.\n"
   ]
  },
  {
   "cell_type": "code",
   "execution_count": 7,
   "metadata": {},
   "outputs": [
    {
     "data": {
      "text/plain": [
       "'The Iteration Count is 10'"
      ]
     },
     "execution_count": 7,
     "metadata": {},
     "output_type": "execute_result"
    }
   ],
   "source": [
    "and_perceptron = TwoInputPerceptron(learning_rate=1, threshold=0.2)\n",
    "\n",
    "iteration_count = 1\n",
    "while True:\n",
    "    bias_old = and_perceptron.bias\n",
    "    w1_old = and_perceptron.w1\n",
    "    w2_old = and_perceptron.w2\n",
    "    for vector in training_dataset:\n",
    "        and_perceptron.train(vector[0], vector[1], vector[2], vector[3])\n",
    "    \n",
    "    if (w1_old == and_perceptron.w1) and (w2_old == and_perceptron.w2) and (bias_old == and_perceptron.bias):\n",
    "        break\n",
    "    iteration_count += 1\n"
   ]
  },
  {
   "cell_type": "markdown",
   "metadata": {},
   "source": [
    "### 3. Plotting Decision Regions and Classifaction Results\n",
    "In this part we have correct weights for our network \\\n",
    "All we need is line that separate decision regions. \\\n",
    "This line is x2 = b + w1x1 / -w2x2 for 2 inputs.\n",
    "\n",
    "For example we want to plot a line in range of (-2, 3) for x1. \\\n",
    "If we give [-1 and 2] to our line, we get [2 and 0] for x2."
   ]
  },
  {
   "cell_type": "code",
   "execution_count": 8,
   "metadata": {},
   "outputs": [
    {
     "data": {
      "image/png": "[encoded data removed]",
      "text/plain": [
       "<Figure size 432x288 with 1 Axes>"
      ]
     },
     "metadata": {
      "needs_background": "light"
     },
     "output_type": "display_data"
    }
   ],
   "source": [
    "x1 = np.array([-1, 2]) # x1=[-1, 2]\n",
    "x2 = (and_perceptron.bias + and_perceptron.w1 * x1) / (- and_perceptron.w2) # x2 = b + w1x1 / -w2x2, at the end will be x2=[2, 0]\n",
    "\n",
    "plt.plot(x1, x2)\n",
    "for vector in training_dataset:\n",
    "    # if Target is 1 it means point is in the positive area (green points) otherwise its in the negetive area (red points)\n",
    "    if vector[3] == 1:  \n",
    "        plt.scatter(vector[0], vector[1], color='green')\n",
    "    else:\n",
    "        plt.scatter(vector[0], vector[1], color='red')\n",
    "\n",
    "plt.grid()\n",
    "plt.xlim(-1, 2)\n",
    "plt.ylim(-1, 2)\n",
    "plt.show()"
   ]
  },
  {
   "cell_type": "markdown",
   "metadata": {},
   "source": [
    "### 4. Plotting The Accuracy Chart\n",
    "Here we plot a bar chart to indicate our accuaracy ratio, by counting number of cases which successfully produces the desired target value."
   ]
  },
  {
   "cell_type": "code",
   "execution_count": 24,
   "metadata": {},
   "outputs": [
    {
     "data": {
      "image/png": "[encoded data removed]",
      "text/plain": [
       "<Figure size 432x288 with 1 Axes>"
      ]
     },
     "metadata": {
      "needs_background": "light"
     },
     "output_type": "display_data"
    },
    {
     "data": {
      "text/plain": [
       "'w1: 2.0, w2: 3.0, bias: -4.0 | The Iteration Count is 10'"
      ]
     },
     "execution_count": 24,
     "metadata": {},
     "output_type": "execute_result"
    }
   ],
   "source": [
    "correct_cases = 0\n",
    "for test_vector in test_dataset:\n",
    "    net_input = and_perceptron.calculate_net_input(test_vector[0], test_vector[1])\n",
    "    result = and_perceptron.activation_function(net_input)\n",
    "    if result == test_vector[2]:\n",
    "        correct_cases += 1\n",
    "incorrect_cases = test_dataset.shape[0] - correct_cases\n",
    "\n",
    "labels = ['Correct Cases', 'Incorrect Cases']\n",
    "data = [correct_cases, incorrect_cases]\n",
    "\n",
    "plt.bar(labels, data, color=('green', 'red'), width=0.3)\n",
    "plt.title('Correct Cases Vs Incorrect Cases')\n",
    "plt.show()\n",
    "\n",
    "f\"w1: {and_perceptron.w1}, w2: {and_perceptron.w2}, bias: {and_perceptron.bias} | The Iteration Count is {iteration_count}\""
   ]
  },
  {
   "cell_type": "markdown",
   "metadata": {},
   "source": [
    "The final weights of our network is exactly what we expected. \\\n",
    "also we printed the counts of the iteration that took until algorithm finishes."
   ]
  }
 ],
 "metadata": {
  "interpreter": {
   "hash": "d5164f955f3c370455357be87c2600af36b098c32d9d17c0501d3db2d0437a92"
  },
  "kernelspec": {
   "display_name": "Python 3.9.9 64-bit ('.venv': venv)",
   "language": "python",
   "name": "python3"
  },
  "language_info": {
   "codemirror_mode": {
    "name": "ipython",
    "version": 3
   },
   "file_extension": ".py",
   "mimetype": "text/x-python",
   "name": "python",
   "nbconvert_exporter": "python",
   "pygments_lexer": "ipython3",
   "version": "3.9.9"
  },
  "orig_nbformat": 4
 },
 "nbformat": 4,
 "nbformat_minor": 2
}
