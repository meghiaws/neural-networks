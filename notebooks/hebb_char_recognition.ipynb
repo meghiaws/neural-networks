{
 "cells": [
  {
   "cell_type": "markdown",
   "metadata": {},
   "source": [
    "# Character Recognition Using Hebbian Neural Network\n",
    "\n",
    "### 1. Initializing Project and Reading Data From CSV Files \n",
    "**The source code of this particular project implemented in the src/projects/hebb.py**. \n",
    "\n",
    "Datasets of this project is in **dataset/hebb/character_recognition**"
   ]
  },
  {
   "cell_type": "code",
   "execution_count": 2,
   "metadata": {},
   "outputs": [],
   "source": [
    "import numpy as np\n",
    "import matplotlib.pyplot as plt\n",
    "from projects import HebbNetwork\n",
    "\n",
    "training_dataset = np.genfromtxt(\"../dataset/hebb/character_recognition/training_dataset.csv\", delimiter=',', skip_header=1)\n",
    "test_dataset = np.genfromtxt(\"../dataset/hebb/character_recognition/test_dataset.csv\", delimiter=',', skip_header=1)\n"
   ]
  },
  {
   "cell_type": "markdown",
   "metadata": {},
   "source": [
    "### 2. Train The Network\n",
    "Here we train our network using HebbNetwork's train() function implemented in **hebb.py** in **src/projects**\n"
   ]
  },
  {
   "cell_type": "code",
   "execution_count": 3,
   "metadata": {},
   "outputs": [],
   "source": [
    "hebb_network = HebbNetwork(input_count=25)\n",
    "\n",
    "for vector in training_dataset:\n",
    "    hebb_network.train(x=vector[:25], bias=vector[25], target=vector[26])\n"
   ]
  },
  {
   "cell_type": "markdown",
   "metadata": {},
   "source": [
    "### 3. Testing The Network and Plotting The Accuracy Chart\n",
    "Here we plot a bar chart to indicate our accuaracy ratio, by counting number of cases which successfully produces the desired target value."
   ]
  },
  {
   "cell_type": "code",
   "execution_count": 4,
   "metadata": {},
   "outputs": [
    {
     "data": {
      "image/png": "[encoded data removed]",
      "text/plain": [
       "<Figure size 432x288 with 1 Axes>"
      ]
     },
     "metadata": {
      "needs_background": "light"
     },
     "output_type": "display_data"
    },
    {
     "data": {
      "text/plain": [
       "'Success Rate: 88.196 %'"
      ]
     },
     "execution_count": 4,
     "metadata": {},
     "output_type": "execute_result"
    }
   ],
   "source": [
    "correct_cases = 0\n",
    "for test_vector in test_dataset:\n",
    "    net_input = hebb_network.calculate_net_input(test_vector[:25])\n",
    "    result = hebb_network.activation_function(net_input)\n",
    "    if result == test_vector[25]:\n",
    "        correct_cases += 1\n",
    "incorrect_cases = test_dataset.shape[0] - correct_cases\n",
    "\n",
    "labels = ['Correct Cases', 'Incorrect Cases']\n",
    "data = [correct_cases, incorrect_cases]\n",
    "\n",
    "plt.bar(labels, data, color=('green', 'red'), width=0.3)\n",
    "plt.title('Correct Cases Vs Incorrect Cases')\n",
    "plt.show()\n",
    "\n",
    "success_percentage = round((correct_cases / test_dataset.shape[0]) * 100, 3)\n",
    "f\"Success Rate: {success_percentage} %\""
   ]
  }
 ],
 "metadata": {
  "interpreter": {
   "hash": "d5164f955f3c370455357be87c2600af36b098c32d9d17c0501d3db2d0437a92"
  },
  "kernelspec": {
   "display_name": "Python 3 (ipykernel)",
   "language": "python",
   "name": "python3"
  },
  "language_info": {
   "codemirror_mode": {
    "name": "ipython",
    "version": 3
   },
   "file_extension": ".py",
   "mimetype": "text/x-python",
   "name": "python",
   "nbconvert_exporter": "python",
   "pygments_lexer": "ipython3",
   "version": "3.9.9"
  }
 },
 "nbformat": 4,
 "nbformat_minor": 4
}
