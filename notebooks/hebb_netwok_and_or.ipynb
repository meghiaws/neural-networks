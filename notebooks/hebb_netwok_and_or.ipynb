{
 "cells": [
  {
   "cell_type": "markdown",
   "metadata": {},
   "source": [
    "## Implementing Logical AND Function Using Hebbian Neural Network"
   ]
  },
  {
   "cell_type": "markdown",
   "metadata": {},
   "source": [
    "\n",
    "### 1) Initializing Project and Reading Data From CSV Files \n",
    "In order to implement AND function, we need some libraries and packages:\n",
    "\n",
    "- **numpy**: we use this library to calculate complex matrix operation\n",
    "- **matplotlib**: this is a plotting library, here we use it in plotting **classification graph** and **test case accuracy graph** \n",
    "- **hebb_and_function**: this is implementation of **AND gate using Hebbian Network** implemented in **src** folder\n",
    "\n",
    "\n",
    "We are using 2 datasets for each functions (AND, OR): \\\n",
    "First one is our training dataset which includes **2 inputs**, **bias** and **target** value. **(training_dataset.csv)** \\\n",
    "Second on is for testing if our training proccess was successful or not. **(test_dataset.csv)**. \\\n",
    "All datasets exists in the **dataset** folder with CSV format. \n"
   ]
  },
  {
   "cell_type": "code",
   "execution_count": 1,
   "metadata": {},
   "outputs": [],
   "source": [
    "import numpy as np\n",
    "import matplotlib.pyplot as plt\n",
    "from projects import TwoInputHebbNetwork\n",
    "\n",
    "\n",
    "and_training_dataset = np.genfromtxt(\"../dataset/and/training_dataset.csv\", delimiter=',', skip_header=1)\n",
    "and_test_dataset = np.genfromtxt(\"../dataset/and/test_dataset.csv\", delimiter=',', skip_header=1)\n",
    "\n",
    "or_training_dataset = np.genfromtxt(\"../dataset/or/training_dataset.csv\", delimiter=',', skip_header=1)\n",
    "or_test_dataset = np.genfromtxt(\"../dataset/or/test_dataset.csv\", delimiter=',', skip_header=1)"
   ]
  },
  {
   "cell_type": "markdown",
   "metadata": {},
   "source": [
    "numpy's genfromtxt() function expects three arguments and returns a numpy array: \n",
    "- **fname**: patch to our dataset.\n",
    "- **delimeter**: delimeter which is used to separate values.\n",
    "- **skip_header**: the number of lines to skip at the beginning of a file (we use it to ommiting the x1, x2, bias and target labels)."
   ]
  },
  {
   "cell_type": "markdown",
   "metadata": {},
   "source": [
    "### 2) Train The Networks\n",
    "Here we train our two networks using train() function implemented in **two_input_hebb.py** in **src/projects**\n"
   ]
  },
  {
   "cell_type": "code",
   "execution_count": 2,
   "metadata": {},
   "outputs": [],
   "source": [
    "and_hebb_network = TwoInputHebbNetwork()\n",
    "or_hebb_network = TwoInputHebbNetwork()\n",
    "\n",
    "for vector in and_training_dataset:\n",
    "    and_hebb_network.train(vector[0], vector[1], vector[2], vector[3])\n",
    "\n",
    "for vector in or_training_dataset:\n",
    "    or_hebb_network.train(vector[0], vector[1], vector[2], vector[3])"
   ]
  },
  {
   "cell_type": "markdown",
   "metadata": {},
   "source": [
    "### 3. Plotting Decision Regions and Classifaction Results\n",
    "#### a) AND Function\n",
    "In this part we have correct weights for our network \\\n",
    "All we need is line that separate decision regions. \\\n",
    "This line is x2 = b + w1x1 / -w2x2 for 2 inputs.\n",
    "\n",
    "For example we want to plot a line in range of (-2, 3) for X1 axes. \\\n",
    "If we give [-2 and 3] to our line, we get [3 and -2] for x2 axes."
   ]
  },
  {
   "cell_type": "code",
   "execution_count": 3,
   "metadata": {},
   "outputs": [
    {
     "data": {
      "image/png": "[encoded data removed]",
      "text/plain": [
       "<Figure size 432x288 with 1 Axes>"
      ]
     },
     "metadata": {
      "needs_background": "light"
     },
     "output_type": "display_data"
    }
   ],
   "source": [
    "x1 = np.array([-2, 3]) # x1=[-2, 3]\n",
    "x2 = (and_hebb_network.bias + and_hebb_network.w1 * x1) / (- and_hebb_network.w2) # x2 = b + w1x1 / -w2x2, at the end will be x2=[3, -2]\n",
    "\n",
    "plt.plot(x1, x2)\n",
    "for vector in and_training_dataset:\n",
    "    # if Target is 1 it means point is in the positive area (green points) otherwise its in the negetive area (red points)\n",
    "    if vector[3] == 1:  \n",
    "        plt.scatter(vector[0], vector[1], color='green')\n",
    "    else:\n",
    "        plt.scatter(vector[0], vector[1], color='red')\n",
    "\n",
    "plt.grid()\n",
    "plt.xlim(-3, 3)\n",
    "plt.ylim(-3, 3)\n",
    "plt.show()"
   ]
  },
  {
   "cell_type": "markdown",
   "metadata": {},
   "source": [
    "#### b) OR Function"
   ]
  },
  {
   "cell_type": "code",
   "execution_count": 4,
   "metadata": {},
   "outputs": [
    {
     "data": {
      "image/png": "[encoded data removed]",
      "text/plain": [
       "<Figure size 432x288 with 1 Axes>"
      ]
     },
     "metadata": {
      "needs_background": "light"
     },
     "output_type": "display_data"
    }
   ],
   "source": [
    "x1 = np.array([-2, 3]) # x1=[-2, 3]\n",
    "x2 = (or_hebb_network.bias + or_hebb_network.w1 * x1) / (- or_hebb_network.w2) # x2 = b + w1x1 / -w2x2, at the end will be x2=[3, -2]\n",
    "\n",
    "plt.plot(x1, x2)\n",
    "for vector in or_training_dataset:\n",
    "    # if Target is 1 it means point is in the positive area (green points) otherwise its in the negetive area (red points)\n",
    "    if vector[3] == 1:  \n",
    "        plt.scatter(vector[0], vector[1], color='green')\n",
    "    else:\n",
    "        plt.scatter(vector[0], vector[1], color='red')\n",
    "\n",
    "plt.grid()\n",
    "plt.xlim(-3, 3)\n",
    "plt.ylim(-3, 3)\n",
    "plt.show()"
   ]
  },
  {
   "cell_type": "markdown",
   "metadata": {},
   "source": [
    "### 4. Plotting The Accuracy Chart\n",
    "#### a) AND Function\n",
    "Here we plot a bar chart to indicate our accuaracy ratio, by counting number of cases which successfully produces the desired target value."
   ]
  },
  {
   "cell_type": "code",
   "execution_count": 5,
   "metadata": {},
   "outputs": [
    {
     "data": {
      "image/png": "[encoded data removed]",
      "text/plain": [
       "<Figure size 432x288 with 1 Axes>"
      ]
     },
     "metadata": {
      "needs_background": "light"
     },
     "output_type": "display_data"
    }
   ],
   "source": [
    "correct_cases = 0\n",
    "for test_vector in and_test_dataset:\n",
    "    net_input = and_hebb_network.calculate_net_input(test_vector[0], test_vector[1])\n",
    "    result = and_hebb_network.activation_function(net_input)\n",
    "    if result == test_vector[2]:\n",
    "        correct_cases += 1\n",
    "incorrect_cases = and_test_dataset.shape[0] - correct_cases\n",
    "\n",
    "labels = ['Correct Cases', 'Incorrect Cases']\n",
    "data = [correct_cases, incorrect_cases]\n",
    "\n",
    "plt.bar(labels, data, color=('green', 'red'))\n",
    "plt.title('Correct Cases Vs Incorrect Cases')\n",
    "plt.show()"
   ]
  },
  {
   "cell_type": "code",
   "execution_count": 6,
   "metadata": {},
   "outputs": [
    {
     "data": {
      "image/png": "[encoded data removed]",
      "text/plain": [
       "<Figure size 432x288 with 1 Axes>"
      ]
     },
     "metadata": {
      "needs_background": "light"
     },
     "output_type": "display_data"
    }
   ],
   "source": [
    "correct_cases = 0\n",
    "for test_vector in or_test_dataset:\n",
    "    net_input = or_hebb_network.calculate_net_input(test_vector[0], test_vector[1])\n",
    "    result = or_hebb_network.activation_function(net_input)\n",
    "    if result == test_vector[2]:\n",
    "        correct_cases += 1\n",
    "incorrect_cases = or_test_dataset.shape[0] - correct_cases\n",
    "\n",
    "labels = ['Correct Cases', 'Incorrect Cases']\n",
    "data = [correct_cases, incorrect_cases]\n",
    "\n",
    "plt.bar(labels, data, color=('green', 'red'))\n",
    "plt.title('Correct Cases Vs Incorrect Cases')\n",
    "plt.show()"
   ]
  }
 ],
 "metadata": {
  "interpreter": {
   "hash": "d5164f955f3c370455357be87c2600af36b098c32d9d17c0501d3db2d0437a92"
  },
  "kernelspec": {
   "display_name": "Python 3.9.9 64-bit ('.venv': venv)",
   "language": "python",
   "name": "python3"
  },
  "language_info": {
   "codemirror_mode": {
    "name": "ipython",
    "version": 3
   },
   "file_extension": ".py",
   "mimetype": "text/x-python",
   "name": "python",
   "nbconvert_exporter": "python",
   "pygments_lexer": "ipython3",
   "version": "3.9.9"
  },
  "orig_nbformat": 4
 },
 "nbformat": 4,
 "nbformat_minor": 2
}
